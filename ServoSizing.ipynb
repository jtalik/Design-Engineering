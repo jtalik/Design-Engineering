{
 "cells": [
  {
   "cell_type": "markdown",
   "metadata": {},
   "source": [
    "# Mega-Keifel Skin Staging Table"
   ]
  },
  {
   "cell_type": "markdown",
   "metadata": {},
   "source": [
    "Introduction\n",
    "--------------------\n",
    "-----------\n",
    "It has been requested to design an automated table for the purpose of moving TPU skins from the robot pick location to an ergonomic operator loading position. The current practice is to have an operator reach beyond the recommended distance to avoid WRMDS to place the skins. The temporary solution is for a temporary, manually actuated rotating table. \n"
   ]
  },
  {
   "cell_type": "markdown",
   "metadata": {},
   "source": [
    "Machine Specifications:\n",
    "----------------------\n",
    "Provide linear and rotational motion to place the skins staging nests into ergonomic position. Long term solution must not interfere with the core staging area. \n",
    "* Cycle Time: 2 Seconds\n",
    "* Hieght limit: No more than 1\" above the current working hieght (Tim request)\n",
    "* Load: \n",
    "    + Aluminium Adapter Plate (M0171-00420 REV B) \n",
    "    + 3 VeroBlue Skin Staging Nest (XXXXXXX)\n",
    "    + 3 Skins \n",
    "    + Hardware \n",
    "\n"
   ]
  },
  {
   "cell_type": "markdown",
   "metadata": {},
   "source": [
    "Motor Sizing Considerations\n",
    "file:///C:/Users/John/Downloads/Application_Sizing_Guide.pdf\n",
    "--------------------\n",
    "1. Loading Considerations\n",
    "    + Inertial \n",
    "    + Friction\n",
    "2. Motion Profile\n",
    "    + Cycle Time\n",
    "    + Acceleration Requirments\n",
    "    + Peak Torque\n",
    "    + RMS Torque Evaluation\n",
    "3. System Components Requirements\n",
    "    + Mechanism\n",
    "        + Rotational\n",
    "            + Rotary\n",
    "        + Linear\n",
    "            + Ball Screw\n",
    "            + Belt Drive\n",
    "    + Gear Reduction\n",
    "    + System Constraints\n",
    "        + Power Supply\n",
    "        + Communication\n",
    "            + Connection\n",
    "            + \n",
    "            + Sensing\n",
    "                + encoders\n",
    "                + Limit switiches\n",
    "            \n",
    "    "
   ]
  },
  {
   "cell_type": "markdown",
   "metadata": {},
   "source": [
    "Servo Sizing Process\n",
    "------\n",
    "1. Reflect load inertias to the motor inertias by the inertia ratio. recommended to keep the reflected interia under 5x the motor inertia\n",
    "2. Calculate the Acceleration torques and friction torques, determining an RMS Torque. an initial seelction can be made now.\n",
    "3. Calculate the motor inertia calculated in 1 based on the initial selection in 2. Should be greater than 5. consider a motor with rgeat torque"
   ]
  },
  {
   "cell_type": "code",
   "execution_count": 13,
   "metadata": {
    "collapsed": false
   },
   "outputs": [
    {
     "name": "stdout",
     "output_type": "stream",
     "text": [
      "air\n",
      "20.3453\n"
     ]
    }
   ],
   "source": [
    "# properties\n",
    "air = 0.3453+20\n",
    "\n",
    "print(\"air\")\n",
    "print(air)"
   ]
  },
  {
   "cell_type": "code",
   "execution_count": null,
   "metadata": {
    "collapsed": true
   },
   "outputs": [],
   "source": []
  }
 ],
 "metadata": {
  "kernelspec": {
   "display_name": "Python 3",
   "language": "python",
   "name": "python3"
  },
  "language_info": {
   "codemirror_mode": {
    "name": "ipython",
    "version": 3
   },
   "file_extension": ".py",
   "mimetype": "text/x-python",
   "name": "python",
   "nbconvert_exporter": "python",
   "pygments_lexer": "ipython3",
   "version": "3.6.0"
  }
 },
 "nbformat": 4,
 "nbformat_minor": 2
}
